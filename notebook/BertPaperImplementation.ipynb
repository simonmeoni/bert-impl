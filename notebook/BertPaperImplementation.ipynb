{
 "cells": [
  {
   "cell_type": "markdown",
   "source": [
    "# BERT: Pre-Training of Bidrectional Tranformers for Language Understanding\n",
    "**see the full paper [here](https://arxiv.org/pdf/1810.04805.pdf)**"
   ],
   "metadata": {
    "collapsed": false
   }
  },
  {
   "cell_type": "markdown",
   "source": [
    "## Architecture\n",
    "For the architecture, the BERT paper referenced to the original implementation of the multi-layer bidirectional\n",
    "Transformer encoder described in [Vaswani et al. (2017)](https://arxiv.org/pdf/1706.03762.pdf). The Bert model has only one encoders stack.\n",
    "So for this part, I am using the architecture described by the paper above."
   ],
   "metadata": {
    "collapsed": false
   }
  },
  {
   "cell_type": "markdown",
   "source": [
    "### Requirements"
   ],
   "metadata": {
    "collapsed": false
   }
  },
  {
   "cell_type": "code",
   "execution_count": 1,
   "outputs": [
    {
     "ename": "ModuleNotFoundError",
     "evalue": "No module named 'torch.nn.Linear'",
     "output_type": "error",
     "traceback": [
      "\u001B[0;31m---------------------------------------------------------------------------\u001B[0m",
      "\u001B[0;31mModuleNotFoundError\u001B[0m                       Traceback (most recent call last)",
      "\u001B[0;32m<ipython-input-1-172397b751ff>\u001B[0m in \u001B[0;36m<module>\u001B[0;34m\u001B[0m\n\u001B[1;32m      2\u001B[0m \u001B[0;32mimport\u001B[0m \u001B[0mcopy\u001B[0m\u001B[0;34m\u001B[0m\u001B[0;34m\u001B[0m\u001B[0m\n\u001B[1;32m      3\u001B[0m \u001B[0;32mfrom\u001B[0m \u001B[0mtorch\u001B[0m \u001B[0;32mimport\u001B[0m \u001B[0mnn\u001B[0m\u001B[0;34m\u001B[0m\u001B[0;34m\u001B[0m\u001B[0m\n\u001B[0;32m----> 4\u001B[0;31m \u001B[0;32mimport\u001B[0m \u001B[0mtorch\u001B[0m\u001B[0;34m.\u001B[0m\u001B[0mnn\u001B[0m\u001B[0;34m.\u001B[0m\u001B[0mLinear\u001B[0m\u001B[0;34m\u001B[0m\u001B[0;34m\u001B[0m\u001B[0m\n\u001B[0m\u001B[1;32m      5\u001B[0m \u001B[0;34m\u001B[0m\u001B[0m\n",
      "\u001B[0;31mModuleNotFoundError\u001B[0m: No module named 'torch.nn.Linear'"
     ]
    }
   ],
   "source": [
    "import torch\n",
    "import copy\n",
    "from torch import nn"
   ],
   "metadata": {
    "collapsed": false,
    "pycharm": {
     "name": "#%%\n"
    }
   }
  },
  {
   "cell_type": "markdown",
   "source": [
    "### Bert Encoder Stacks\n",
    "* Bert takes as input a sequence of plain text tokens\n",
    "* the output is a representation vector of the size of the hidden layers\n",
    "* Bert is a stack of multi-layer bidirectional Transformer encoder"
   ],
   "metadata": {
    "collapsed": false
   }
  },
  {
   "cell_type": "code",
   "execution_count": null,
   "outputs": [],
   "source": [
    "class Bert(nn.Module):\n",
    "    def __init__(self, encoder, stack_size=6):\n",
    "        super(Bert, self).__init__()\n",
    "        self.encoderLayer = nn.ModuleList()\n",
    "        for i in range(stack_size):\n",
    "            self.encoderLayer.append(copy.deepcopy(encoder))\n",
    "    def forward(self, tokens):\n",
    "        representation = self.encoderLayer[0](tokens)\n",
    "        for encoder in self.encoderLayer :\n",
    "            representation = encoder(representation)\n",
    "        return representation"
   ],
   "metadata": {
    "collapsed": false,
    "pycharm": {
     "name": "#%%\n"
    }
   }
  },
  {
   "cell_type": "markdown",
   "source": [
    "### Encoder\n",
    "\n",
    "* The encoder is composed of two modules. The first is the attention module and the second is the feed-forward network\n",
    "module.\n",
    "\n",
    "* this model is execute sequentially but the computation of each token is independent and could be compute concurrently"
   ],
   "metadata": {
    "collapsed": false
   }
  },
  {
   "cell_type": "code",
   "execution_count": null,
   "outputs": [],
   "source": [
    "class Encoder(nn.Module):\n",
    "    def __init__(self, hidden_size, output_size, attention):\n",
    "        super(Encoder, self).__init__()\n",
    "        self.attention = copy.deepcopy(attention)\n",
    "        self.ffnn = nn.Linear(hidden_size, output_size)\n",
    "    def forward(self, tokens):\n",
    "        z_representations = []\n",
    "        for t in tokens:\n",
    "            z = self.attention(t, tokens)\n",
    "            z_representations.append(self.ffnn(z))\n",
    "        return torch.stack(z_representations)"
   ],
   "metadata": {
    "collapsed": false,
    "pycharm": {
     "name": "#%%\n"
    }
   }
  },
  {
   "cell_type": "markdown",
   "source": [
    "### Multi-Head Attention"
   ],
   "metadata": {
    "collapsed": false
   }
  },
  {
   "cell_type": "markdown",
   "source": [
    "### Feed Forward Network"
   ],
   "metadata": {
    "collapsed": false
   }
  },
  {
   "cell_type": "markdown",
   "source": [
    "### Attention"
   ],
   "metadata": {
    "collapsed": false
   }
  },
  {
   "cell_type": "markdown",
   "source": [
    "## Pre-Training & Fine-Tuning\n",
    "\n"
   ],
   "metadata": {
    "collapsed": false
   }
  },
  {
   "cell_type": "markdown",
   "source": [
    "## Experimentation"
   ],
   "metadata": {
    "collapsed": false,
    "pycharm": {
     "name": "#%% md\n"
    }
   }
  }
 ],
 "metadata": {
  "kernelspec": {
   "display_name": "Python 3",
   "language": "python",
   "name": "python3"
  },
  "language_info": {
   "codemirror_mode": {
    "name": "ipython",
    "version": 2
   },
   "file_extension": ".py",
   "mimetype": "text/x-python",
   "name": "python",
   "nbconvert_exporter": "python",
   "pygments_lexer": "ipython2",
   "version": "2.7.6"
  }
 },
 "nbformat": 4,
 "nbformat_minor": 0
}