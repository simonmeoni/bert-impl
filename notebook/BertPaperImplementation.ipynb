{
 "cells": [
  {
   "cell_type": "markdown",
   "source": [
    "# BERT: Pre-Training of Bidrectional Tranformers for Language Understanding\n",
    "**see the full paper [here](https://arxiv.org/pdf/1810.04805.pdf)**"
   ],
   "metadata": {
    "collapsed": false
   }
  },
  {
   "cell_type": "markdown",
   "source": [
    "## Architecture\n",
    "For the architecture, the BERT paper referenced to the original implementation of the multi-layer bidirectional\n",
    "Transformer encoder described in [Vaswani et al. (2017)](https://arxiv.org/pdf/1706.03762.pdf). The Bert model has only one encoders stack.\n",
    "So for this part, I am using the architecture described by the paper above."
   ],
   "metadata": {
    "collapsed": false
   }
  },
  {
   "cell_type": "markdown",
   "source": [
    "### Requirements"
   ],
   "metadata": {
    "collapsed": false
   }
  },
  {
   "cell_type": "code",
   "execution_count": null,
   "outputs": [],
   "source": [
    "import torch\n",
    "from torch import nn\n",
    "import copy"
   ],
   "metadata": {
    "collapsed": false,
    "pycharm": {
     "name": "#%%\n"
    }
   }
  },
  {
   "cell_type": "markdown",
   "source": [
    "### Bert Encoder Stacks\n",
    "* Bert takes as input a sequence of plain text tokens\n",
    "* the output is a representation vector of the size of the hidden layers\n",
    "* Bert is a stack of multi-layer bidirectional Transformer encoder"
   ],
   "metadata": {
    "collapsed": false
   }
  },
  {
   "cell_type": "code",
   "execution_count": null,
   "outputs": [],
   "source": [
    "class Bert(nn.Module):\n",
    "    def __init__(self, encoder, stack_size=6):\n",
    "        super(Bert, self).__init__()\n",
    "        self.encoderLayer = nn.ModuleList()\n",
    "        for i in range(stack_size):\n",
    "            self.encoderLayer.append(copy.deepcopy(encoder))\n",
    "    def forward(self, tokens):\n",
    "        representation = self.encoderLayer[0](tokens)\n",
    "        for encoder in self.encoderLayer :\n",
    "            representation = encoder(representation)\n",
    "        return representation"
   ],
   "metadata": {
    "collapsed": false,
    "pycharm": {
     "name": "#%%\n"
    }
   }
  },
  {
   "cell_type": "markdown",
   "source": [
    "### Encoder"
   ],
   "metadata": {
    "collapsed": false
   }
  },
  {
   "cell_type": "code",
   "execution_count": null,
   "outputs": [],
   "source": [
    "class Encoder(nn.Module):\n",
    "    def __init__(self, hidden_size):\n",
    "        super(Encoder, self).__init__()\n",
    "    def forward(self, x):\n",
    "        return x"
   ],
   "metadata": {
    "collapsed": false,
    "pycharm": {
     "name": "#%%\n"
    }
   }
  },
  {
   "cell_type": "markdown",
   "source": [
    "### Multi-Head Attention"
   ],
   "metadata": {
    "collapsed": false
   }
  },
  {
   "cell_type": "markdown",
   "source": [
    "### Feed Forward Network"
   ],
   "metadata": {
    "collapsed": false
   }
  },
  {
   "cell_type": "markdown",
   "source": [
    "### Attention"
   ],
   "metadata": {
    "collapsed": false
   }
  },
  {
   "cell_type": "markdown",
   "source": [
    "## Pre-Training & Fine-Tuning\n",
    "\n"
   ],
   "metadata": {
    "collapsed": false
   }
  },
  {
   "cell_type": "markdown",
   "source": [
    "## Experimentation"
   ],
   "metadata": {
    "collapsed": false
   }
  }
 ],
 "metadata": {
  "kernelspec": {
   "display_name": "Python 3",
   "language": "python",
   "name": "python3"
  },
  "language_info": {
   "codemirror_mode": {
    "name": "ipython",
    "version": 2
   },
   "file_extension": ".py",
   "mimetype": "text/x-python",
   "name": "python",
   "nbconvert_exporter": "python",
   "pygments_lexer": "ipython2",
   "version": "2.7.6"
  }
 },
 "nbformat": 4,
 "nbformat_minor": 0
}