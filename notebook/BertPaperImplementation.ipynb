{
 "cells": [
  {
   "cell_type": "markdown",
   "source": [
    "# BERT: Pre-Training of Bidrectional Tranformers for Language Understanding\n",
    "**see the full paper [here](https://arxiv.org/pdf/1810.04805.pdf)**\n",
    "\n",
    "## Architecture\n",
    "\n",
    "## Pre-Training & Fine-Tuning\n",
    "\n",
    "## Experimentation"
   ],
   "metadata": {
    "collapsed": false
   }
  }
 ],
 "metadata": {
  "kernelspec": {
   "display_name": "Python 3",
   "language": "python",
   "name": "python3"
  },
  "language_info": {
   "codemirror_mode": {
    "name": "ipython",
    "version": 2
   },
   "file_extension": ".py",
   "mimetype": "text/x-python",
   "name": "python",
   "nbconvert_exporter": "python",
   "pygments_lexer": "ipython2",
   "version": "2.7.6"
  }
 },
 "nbformat": 4,
 "nbformat_minor": 0
}