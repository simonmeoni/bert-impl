{
 "cells": [
  {
   "cell_type": "markdown",
   "metadata": {
    "pycharm": {
     "name": "#%% md\n"
    }
   },
   "source": [
    "# BERT: Pre-Training of Bidrectional Tranformers for Language Understanding\n",
    "**see the full paper [here](https://arxiv.org/pdf/1810.04805.pdf)**"
   ]
  },
  {
   "cell_type": "markdown",
   "metadata": {},
   "source": [
    "## Architecture\n",
    "For the architecture, the BERT paper referenced to the original implementation of the multi-layer bidirectional\n",
    "Transformer encoder described in [Vaswani et al. (2017)](https://arxiv.org/pdf/1706.03762.pdf).\n",
    "The Bert model has only one encoders stack.\n",
    "So for this part, I am using the architecture described by the paper above.\n",
    "\n",
    "![architecture](./resources/img/model-architecture.png)"
   ]
  },
  {
   "cell_type": "markdown",
   "metadata": {},
   "source": [
    "### Requirements"
   ]
  },
  {
   "cell_type": "code",
   "execution_count": 9,
   "metadata": {
    "pycharm": {
     "name": "#%%\n"
    }
   },
   "outputs": [],
   "source": [
    "import math\n",
    "import torch\n",
    "import copy\n",
    "from torch import nn"
   ]
  },
  {
   "cell_type": "markdown",
   "metadata": {},
   "source": [
    "### Bert Encoder Stacks\n",
    "* Bert takes as input a sequence of plain text tokens\n",
    "* the output is a representation vector of the size of the hidden layers\n",
    "* Bert is a stack of multi-layer bidirectional Transformer encoder"
   ]
  },
  {
   "cell_type": "code",
   "execution_count": 2,
   "metadata": {
    "pycharm": {
     "name": "#%%\n"
    }
   },
   "outputs": [],
   "source": [
    "class Bert(nn.Module):\n",
    "    def __init__(self, encoder, stack_size=6):\n",
    "        super(Bert, self).__init__()\n",
    "        self.encoderLayer = nn.ModuleList()\n",
    "        for i in range(stack_size):\n",
    "            self.encoderLayer.append(copy.deepcopy(encoder))\n",
    "            \n",
    "    def forward(self, tokens):\n",
    "        representation = self.encoderLayer[0](tokens)\n",
    "        for encoder in self.encoderLayer:\n",
    "            representation = encoder(representation)\n",
    "        return representation"
   ]
  },
  {
   "cell_type": "markdown",
   "metadata": {},
   "source": [
    "### Encoder\n",
    "\n",
    "* The encoder is composed of two modules. The first is the attention module and the second is the feed-forward network\n",
    "module.\n",
    "\n",
    "* this model is execute sequentially but the computation of each token\n",
    "is independent and could be compute concurrently"
   ]
  },
  {
   "cell_type": "code",
   "execution_count": 4,
   "metadata": {
    "pycharm": {
     "name": "#%%\n"
    }
   },
   "outputs": [],
   "source": [
    "class Encoder(nn.Module):\n",
    "    def __init__(self, hidden_size, output_size):\n",
    "        super(Encoder, self).__init__()\n",
    "        self.mh_att = copy.deepcopy(MultiHeadAttention(2))\n",
    "        self.feed_forward_network = nn.Linear(hidden_size, output_size)\n",
    "\n",
    "    def forward(self, tokens):\n",
    "        r = self.mh_att(tokens)\n",
    "        return self.ffnn(r)"
   ]
  },
  {
   "cell_type": "markdown",
   "metadata": {},
   "source": [
    "### Self Attention\n",
    "![attention](./resources/img/multihead-attention.png)"
   ]
  },
  {
   "cell_type": "code",
   "execution_count": 5,
   "metadata": {
    "pycharm": {
     "name": "#%%\n"
    }
   },
   "outputs": [],
   "source": [
    "class MultiHeadAttention(nn.Module):\n",
    "    def __init__(self, att_head_number):\n",
    "        super(MultiHeadAttention, self).__init__()\n",
    "        self.Wo = None\n",
    "        self.attentionHeads = nn.ModuleList()\n",
    "        for i in range(att_head_number):\n",
    "            self.attentionHeads.append(Attention())\n",
    "\n",
    "    def forward(self, tokens):\n",
    "        z_n = []\n",
    "        for h in self.attentionHeads:\n",
    "            z_n.append(h(tokens))\n",
    "        cat_zn = torch.cat(z_n)\n",
    "        return cat_zn * self.Wo\n",
    "\n",
    "\n",
    "class Attention(nn.Module):\n",
    "    def __init__(self):\n",
    "        super(Attention, self).__init__()\n",
    "        self.emb = nn.Embedding\n",
    "        self.w_query = None\n",
    "        self.w_key = None\n",
    "        self.w_vector = None\n",
    "\n",
    "    def forward(self, tokens):\n",
    "        emb = self.emb(tokens)\n",
    "        # use dot product instead\n",
    "        query = self.w_query * emb\n",
    "        key = self.w_key * emb\n",
    "        value = self.w_vector * emb\n",
    "        # use matrix form to simplify the code\n",
    "        # dot product or matrix multiplication ?\n",
    "        # I confused and merge multi-head attention and self-attention\n",
    "        return nn.Softmax((query * key.t()) / math.sqrt(8) * value)"
   ]
  },
  {
   "cell_type": "markdown",
   "metadata": {},
   "source": [
    "## Pre-Training & Fine-Tuning"
   ]
  },
  {
   "cell_type": "markdown",
   "metadata": {
    "pycharm": {
     "name": "#%% md\n"
    }
   },
   "source": [
    "## Experimentation"
   ]
  }
 ],
 "metadata": {
  "jupytext": {
   "formats": "//notebook//ipynb,//src/main//py"
  },
  "kernelspec": {
   "display_name": "Python 3",
   "language": "python",
   "name": "python3"
  },
  "language_info": {
   "codemirror_mode": {
    "name": "ipython",
    "version": 3
   },
   "file_extension": ".py",
   "mimetype": "text/x-python",
   "name": "python",
   "nbconvert_exporter": "python",
   "pygments_lexer": "ipython3",
   "version": "3.7.7"
  }
 },
 "nbformat": 4,
 "nbformat_minor": 1
}