{
 "cells": [
  {
   "cell_type": "code",
   "execution_count": null,
   "metadata": {},
   "outputs": [],
   "source": [
    "# openfile\n",
    "with open('src/bert_implementation.ipynb', 'r') as f:\n",
    "    file_source = f.read()\n",
    "    replace_dependencies = file_source.replace(\"Python 3.7.9 64-bit ('bert': conda)\", 'python3')\n",
    "    remove_neptune_import = replace_dependencies.replace('\"import neptune\\\\n\",', '')\n",
    "    replace_python_kernel = remove_neptune_import.replace(\n",
    "        '\"NEPTUNE_API_TOKEN = os.environ.get(\\\\\"NEPTUNE_API_TOKEN\\\\\")\\\\n\",', \"\"\"\n",
    "    \"!pip install neptune-client\\\\n\",\n",
    "    \"from kaggle_secrets import UserSecretsClient\\\\n\",\n",
    "    \"user_secrets = UserSecretsClient()\\\\n\",\n",
    "    \"NEPTUNE_API_TOKEN = user_secrets.get_secret(\\\\\\\"NEPTUNE_API_TOKEN\\\\\\\")\\\\n\",\n",
    "    \"import neptune\\\\n\",\n",
    "        \"\"\")\n",
    "with open('src/bert_implementation_to_kaggle.ipynb', 'w') as f:\n",
    "    f.write(replace_python_kernel)"
   ]
  }
 ],
 "metadata": {
  "jupytext": {
   "cell_metadata_filter": "-all",
   "main_language": "python",
   "notebook_metadata_filter": "-all"
  }
 },
 "nbformat": 4,
 "nbformat_minor": 4
}
