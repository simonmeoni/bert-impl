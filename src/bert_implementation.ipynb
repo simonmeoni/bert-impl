{
 "cells": [
  {
   "cell_type": "markdown",
   "metadata": {
    "pycharm": {
     "name": "#%% md\n"
    }
   },
   "source": [
    "# BERT: Pre-Training of Bidrectional Tranformers for Language Understanding\n",
    "**see the full paper [here](https://arxiv.org/pdf/1810.04805.pdf)**"
   ]
  },
  {
   "cell_type": "markdown",
   "metadata": {},
   "source": [
    "## Architecture\n",
    "For the architecture, the BERT paper referenced to the original\n",
    "implementation of the multi-layer bidirectional\n",
    "Transformer encoder described in\n",
    "[Vaswani et al. (2017)](https://arxiv.org/pdf/1706.03762.pdf).\n",
    "The Bert model has only one encoders stack.\n",
    "So for this part, I am using the architecture described by the paper above.\n",
    "\n",
    "![architecture](https://tinyurl.com/yye57wlx)"
   ]
  },
  {
   "cell_type": "markdown",
   "metadata": {},
   "source": [
    "### Requirements"
   ]
  },
  {
   "cell_type": "code",
   "execution_count": null,
   "metadata": {
    "pycharm": {
     "name": "#%%\n"
    }
   },
   "outputs": [],
   "source": [
    "import math\n",
    "import copy\n",
    "import torch\n",
    "from torch import nn"
   ]
  },
  {
   "cell_type": "markdown",
   "metadata": {},
   "source": [
    "### Bert Encoder Stacks\n",
    "* Bert takes as input a sequence of plain text tokens\n",
    "* the output is a representation vector of the size of the hidden layers\n",
    "* Bert is a stack of multi-layer bidirectional Transformer encoder"
   ]
  },
  {
   "cell_type": "code",
   "execution_count": null,
   "metadata": {
    "pycharm": {
     "name": "#%%\n"
    }
   },
   "outputs": [],
   "source": [
    "class Bert(nn.Module):\n",
    "    def __init__(self, encoder, stack_size, embedding_dim, num_embeddings):\n",
    "        super().__init__()\n",
    "        self.emb = nn.Embedding(\n",
    "            embedding_dim=embedding_dim,\n",
    "            num_embeddings=num_embeddings\n",
    "        )\n",
    "        self.encoder_layer = nn.ModuleList()\n",
    "        # self.pos_enc = PositionalEncoding()\n",
    "        for _ in range(stack_size):\n",
    "            self.encoderLayer.append(copy.deepcopy(encoder))\n",
    "\n",
    "    def forward(self, tokens):\n",
    "        embeddings = self.emb(tokens)\n",
    "        representation = self.encoderLayer[0](embeddings)\n",
    "        for encoder in self.encoderLayer:\n",
    "            representation = encoder(representation)\n",
    "        return representation"
   ]
  },
  {
   "cell_type": "markdown",
   "metadata": {},
   "source": [
    "### Encoder\n",
    "\n",
    "* The encoder is composed of two modules. The first is the attention module\n",
    " and the second is the feed-forward network\n",
    "module.\n",
    "\n",
    "* this model is execute sequentially but the computation of each token\n",
    "is independent and could be compute concurrently"
   ]
  },
  {
   "cell_type": "code",
   "execution_count": null,
   "metadata": {
    "pycharm": {
     "name": "#%%\n"
    }
   },
   "outputs": [],
   "source": [
    "class Encoder(nn.Module):\n",
    "    def __init__(self, hidden_size, output_size):\n",
    "        super().__init__()\n",
    "        self.mh_att = copy.deepcopy(MultiHeadAttention(2))\n",
    "        self.add_norm_l1 = AddNormalizeLayer(output_size)\n",
    "        self.feed_forward_network = nn.Linear(hidden_size, output_size)\n",
    "        self.add_norm_l2 = AddNormalizeLayer(output_size)\n",
    "\n",
    "    def forward(self, embeddings):\n",
    "        representations = self.mh_att(embeddings)\n",
    "        return self.ffnn(representations)"
   ]
  },
  {
   "cell_type": "markdown",
   "metadata": {},
   "source": [
    "### Self Attention\n",
    "![attention](https://tinyurl.com/y6qzem5l)"
   ]
  },
  {
   "cell_type": "code",
   "execution_count": null,
   "metadata": {
    "pycharm": {
     "name": "#%%\n"
    }
   },
   "outputs": [],
   "source": [
    "class MultiHeadAttention(nn.Module):\n",
    "    def __init__(self, att_head_number):\n",
    "        super().__init__()\n",
    "        self.w_o = None\n",
    "        self.att_heads = nn.ModuleList()\n",
    "        for _ in range(att_head_number):\n",
    "            self.att_heads.append(Attention())\n",
    "\n",
    "    def forward(self, tokens):\n",
    "        z_n = []\n",
    "        for head in self.att_heads:\n",
    "            z_n.append(head(tokens))\n",
    "        # cat_zn = torch.cat(z_n)\n",
    "        return z_n * self.w_o\n",
    "\n",
    "\n",
    "class Attention(nn.Module):\n",
    "    def __init__(self):\n",
    "        super().__init__()\n",
    "        self.w_query = None\n",
    "        self.w_key = None\n",
    "        self.w_vector = None\n",
    "\n",
    "    def forward(self, tokens):\n",
    "        emb = self.emb(tokens)\n",
    "        # use dot product instead\n",
    "        query = self.w_query * emb\n",
    "        key = self.w_key * emb\n",
    "        value = self.w_vector * emb\n",
    "        # use matrix form to simplify the code\n",
    "        # dot product or matrix multiplication ?\n",
    "        # I confused and merge multi-head attention and self-attention\n",
    "        return nn.Softmax((query * key.t()) / math.sqrt(8) * value)"
   ]
  },
  {
   "cell_type": "markdown",
   "metadata": {},
   "source": [
    "## Add & Normalize Layer"
   ]
  },
  {
   "cell_type": "code",
   "execution_count": null,
   "metadata": {
    "pycharm": {
     "name": "#%%\n"
    }
   },
   "outputs": [],
   "source": [
    "class AddNormalizeLayer(nn.Module):\n",
    "    def __init__(self, normalized_shape):\n",
    "        super().__init__()\n",
    "        self.layer_norm = nn.LayerNorm(normalized_shape)\n",
    "\n",
    "    def forward(self, x_n, z_n):\n",
    "        cat = torch.cat((x_n, z_n), 0)\n",
    "        return self.layer_norm(cat)"
   ]
  },
  {
   "cell_type": "markdown",
   "metadata": {},
   "source": [
    "## Pre-Training & Fine-Tuning"
   ]
  },
  {
   "cell_type": "markdown",
   "metadata": {},
   "source": [
    "### Task #1 : Masked LM\n",
    "\n"
   ]
  },
  {
   "cell_type": "markdown",
   "metadata": {},
   "source": [
    "### Task #2 : Next sentence Prediction"
   ]
  },
  {
   "cell_type": "markdown",
   "metadata": {},
   "source": [
    "### Fine Tuning"
   ]
  },
  {
   "cell_type": "markdown",
   "metadata": {
    "pycharm": {
     "name": "#%% md\n"
    }
   },
   "source": [
    "## Experimentation"
   ]
  }
 ],
 "metadata": {
  "jupytext": {
   "formats": "//notebook//ipynb,//src/main//py"
  },
  "kernelspec": {
   "display_name": "Python 3",
   "language": "python",
   "name": "python3"
  }
 },
 "nbformat": 4,
 "nbformat_minor": 4
}
